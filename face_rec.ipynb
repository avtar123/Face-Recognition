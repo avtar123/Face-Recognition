{
  "nbformat": 4,
  "nbformat_minor": 0,
  "metadata": {
    "colab": {
      "provenance": [],
      "include_colab_link": true
    },
    "kernelspec": {
      "name": "python3",
      "display_name": "Python 3"
    },
    "language_info": {
      "name": "python"
    }
  },
  "cells": [
    {
      "cell_type": "markdown",
      "metadata": {
        "id": "view-in-github",
        "colab_type": "text"
      },
      "source": [
        "<a href=\"https://colab.research.google.com/github/avtar123/Face-Recognition/blob/main/face_rec.ipynb\" target=\"_parent\"><img src=\"https://colab.research.google.com/assets/colab-badge.svg\" alt=\"Open In Colab\"/></a>"
      ]
    },
    {
      "cell_type": "markdown",
      "source": [
        "# Data **Preprocessing**"
      ],
      "metadata": {
        "id": "Yt98tiTLu5BA"
      }
    },
    {
      "cell_type": "code",
      "execution_count": null,
      "metadata": {
        "id": "Va466-l0qrox"
      },
      "outputs": [],
      "source": [
        "import os\n",
        "import cv2\n",
        "import pickle\n",
        "import numpy as np\n",
        "import pandas as pd\n",
        "from sklearn import svm\n",
        "from sklearn.svm import SVC\n",
        "from sklearn.pipeline import Pipeline\n",
        "from sklearn.pipeline import make_pipeline\n",
        "from sklearn.preprocessing import StandardScaler\n",
        "from sklearn.model_selection import GridSearchCV\n",
        "from sklearn.metrics import classification_report\n",
        "from sklearn.ensemble import RandomForestClassifier\n",
        "from sklearn.linear_model import LogisticRegression\n",
        "from sklearn.model_selection import train_test_split\n",
        "from moviepy.video.io.VideoFileClip import VideoFileClip\n"
      ]
    },
    {
      "cell_type": "code",
      "source": [
        "crp_img_dir = \"/content/drive/MyDrive/Players_face_dataset/\"\n",
        "crp_img_dir1 = os.listdir(crp_img_dir)"
      ],
      "metadata": {
        "id": "fGVIwn4PvpE9"
      },
      "execution_count": null,
      "outputs": []
    },
    {
      "cell_type": "code",
      "source": [
        "player_names_dict = {}\n",
        "count = 0\n",
        "for player in crp_img_dir1:\n",
        "    player_names_dict.update({\"{}\".format(count):player})\n",
        "    count+=1\n",
        "print(player_names_dict)"
      ],
      "metadata": {
        "id": "C8eOT69KvYMv",
        "colab": {
          "base_uri": "https://localhost:8080/"
        },
        "outputId": "02eaa60d-5bc2-487e-92ab-7fdb97fc809f"
      },
      "execution_count": null,
      "outputs": [
        {
          "output_type": "stream",
          "name": "stdout",
          "text": [
            "{'0': 'Ajinkya_Rahane', '1': 'bhuvneshwar_kumar', '2': 'David_Warner', '3': 'deepak_chahar', '4': 'dinesh_karthik', '5': 'Glen_Max', '6': 'hardik_pandya', '7': 'jasprit_bumrah', '8': 'KL_Rahul', '9': 'ms_dhoni', '10': 'Quinton_De_Kock', '11': 'ravindra_jadeja', '12': 'Rohit_Sharma', '13': 'shikhar_dhawan', '14': 'Shubman_Gill', '15': 'virat_kohli'}\n"
          ]
        }
      ]
    },
    {
      "cell_type": "code",
      "source": [
        "class_dict = {}\n",
        "count = 0\n",
        "for player_id in player_names_dict.keys():\n",
        "  class_dict[player_id] = count\n",
        "  count = count + 1\n",
        "class_dict\n"
      ],
      "metadata": {
        "colab": {
          "base_uri": "https://localhost:8080/"
        },
        "id": "bCa74-Ncze2m",
        "outputId": "5909b3ab-a560-4ca9-e75e-73dccf3ea7c7"
      },
      "execution_count": null,
      "outputs": [
        {
          "output_type": "execute_result",
          "data": {
            "text/plain": [
              "{'0': 0,\n",
              " '1': 1,\n",
              " '2': 2,\n",
              " '3': 3,\n",
              " '4': 4,\n",
              " '5': 5,\n",
              " '6': 6,\n",
              " '7': 7,\n",
              " '8': 8,\n",
              " '9': 9,\n",
              " '10': 10,\n",
              " '11': 11,\n",
              " '12': 12,\n",
              " '13': 13,\n",
              " '14': 14,\n",
              " '15': 15}"
            ]
          },
          "metadata": {},
          "execution_count": 167
        }
      ]
    },
    {
      "cell_type": "code",
      "source": [
        "def hog_feature(img):\n",
        "  win_size = (64,64)\n",
        "  block_size = (16,16)\n",
        "  block_stride = (8,8)\n",
        "  cell_size = (8,8)\n",
        "  num_bins = 9\n",
        "  hog = cv2.HOGDescriptor(win_size,block_size,block_stride,cell_size,num_bins)\n",
        "  hog_features = hog.compute(img)\n",
        "  #hog_features = hog_features.flatten()\n",
        "  hog_features = np.array(hog_features).flatten()\n",
        "  #hog_img = hog_features.reshape(-1,num_bins)\n",
        "  scaler = StandardScaler()\n",
        "  hog_features_normalized = scaler.fit_transform(hog_features.reshape(-1,1))\n",
        "  return hog_features_normalized"
      ],
      "metadata": {
        "id": "TY7DuzvVdafO"
      },
      "execution_count": null,
      "outputs": []
    },
    {
      "cell_type": "code",
      "source": [
        "x_train, y_train, x_test, y_test = [], [], [], []\n",
        "min_len = 500\n",
        "for player_id, player_name in player_names_dict.items():\n",
        "    player_img_dir = os.path.join(crp_img_dir,player_name)\n",
        "    player_face_img_dir = os.listdir(player_img_dir)\n",
        "    #print(player_img_dir)\n",
        "    #print(player_face_img_dir)\n",
        "    len_dir = len(player_face_img_dir)\n",
        "    if min_len>len_dir:\n",
        "      min_len = len_dir\n",
        "print(min_len)\n",
        "for player_id, player_name in player_names_dict.items():\n",
        "  #print(celebrity_name,player_name)\n",
        "  player_img_dir = os.path.join(crp_img_dir,player_name)\n",
        "  player_face_img_dir = os.listdir(player_img_dir)\n",
        "  #print(player_img_dir)\n",
        "  #print(player_face_img_dir)\n",
        "  split_counter = 0\n",
        "  #for player_img in player_face_img_dir[:min_len]:\n",
        "  for player_img in player_face_img_dir:\n",
        "    #print(player_img)\n",
        "    img = cv2.imread(player_img_dir+\"/\"+player_img)\n",
        "    #print(img)\n",
        "    gray_img = cv2.cvtColor( img,cv2.COLOR_RGB2GRAY )\n",
        "    #print(gray_img)\n",
        "    cv2.imwrite(\"img.png\",gray_img)\n",
        "    if gray_img is not None:\n",
        "      scaled_img = cv2.resize(gray_img, (64,64))\n",
        "      #cv2.imwrite(\"img.png\",scaled_img)\n",
        "      #img_har = w2d(gray_img,'db1',5)\n",
        "      #scaled_img_har = cv2.resize(img_har, (32, 32))\n",
        "      #combined_img = np.vstack((scalled_img.reshape(32*32*3,1),scalled_img_har.reshape(32*32,1)))\n",
        "      hog_img = hog_feature(scaled_img)\n",
        "      #cv2.imwrite(\"img_1.png\",hog_img)\n",
        "      if split_counter<5:\n",
        "        x_test.append(hog_img)\n",
        "        y_test.append(class_dict[player_id])\n",
        "      else:\n",
        "        x_train.append(hog_img)\n",
        "        y_train.append(class_dict[player_id])\n",
        "      #break\n",
        "    split_counter+=1"
      ],
      "metadata": {
        "colab": {
          "base_uri": "https://localhost:8080/"
        },
        "id": "U97cJqLxz5qd",
        "outputId": "2da60dbc-d32e-49ca-e358-8bd84cf9b7a6"
      },
      "execution_count": null,
      "outputs": [
        {
          "output_type": "stream",
          "name": "stdout",
          "text": [
            "13\n"
          ]
        }
      ]
    },
    {
      "cell_type": "code",
      "source": [
        "type(x_train[0])"
      ],
      "metadata": {
        "colab": {
          "base_uri": "https://localhost:8080/"
        },
        "id": "kbl3l7MsSrIX",
        "outputId": "8c3351d2-b862-41d7-dd1b-22d15e7ae566"
      },
      "execution_count": null,
      "outputs": [
        {
          "output_type": "execute_result",
          "data": {
            "text/plain": [
              "numpy.ndarray"
            ]
          },
          "metadata": {},
          "execution_count": 230
        }
      ]
    },
    {
      "cell_type": "code",
      "source": [
        "x_train = np.array(x_train).reshape(len(x_train),-1)\n",
        "x_test = np.array(x_test).reshape(len(x_test),-1)"
      ],
      "metadata": {
        "id": "3SpvevRSmsL8"
      },
      "execution_count": null,
      "outputs": []
    },
    {
      "cell_type": "code",
      "source": [
        "print(x_train[0].shape)"
      ],
      "metadata": {
        "colab": {
          "base_uri": "https://localhost:8080/"
        },
        "id": "yN_ecJzknB7K",
        "outputId": "322da863-08cd-4aad-a792-394a88407d18"
      },
      "execution_count": null,
      "outputs": [
        {
          "output_type": "stream",
          "name": "stdout",
          "text": [
            "(1764,)\n"
          ]
        }
      ]
    },
    {
      "cell_type": "code",
      "source": [
        "type(y_train)"
      ],
      "metadata": {
        "colab": {
          "base_uri": "https://localhost:8080/"
        },
        "id": "3CI_SFL_M4Zs",
        "outputId": "2ceefdb0-3608-4da3-dd31-e03960e4c1f6"
      },
      "execution_count": null,
      "outputs": [
        {
          "output_type": "execute_result",
          "data": {
            "text/plain": [
              "list"
            ]
          },
          "metadata": {},
          "execution_count": 229
        }
      ]
    },
    {
      "cell_type": "code",
      "source": [
        "print(len(x_train),len(y_train),len(x_test),len(y_test))"
      ],
      "metadata": {
        "colab": {
          "base_uri": "https://localhost:8080/"
        },
        "id": "viiOW9NUQDgH",
        "outputId": "1921f295-228e-4858-b6a7-6b17845122a7"
      },
      "execution_count": null,
      "outputs": [
        {
          "output_type": "stream",
          "name": "stdout",
          "text": [
            "940 940 80 80\n"
          ]
        }
      ]
    },
    {
      "cell_type": "markdown",
      "source": [
        "# **Training**"
      ],
      "metadata": {
        "id": "5a-ERDXnuyBJ"
      }
    },
    {
      "cell_type": "code",
      "source": [
        "pipe = Pipeline([('svc', SVC(kernel = 'poly', C = 10))])\n",
        "#model = svm.SVC(kernel = 'rbf', C = 10)\n",
        "pipe.fit(x_train, y_train)\n",
        "pipe.score(x_test, y_test)"
      ],
      "metadata": {
        "colab": {
          "base_uri": "https://localhost:8080/"
        },
        "id": "yG7Xh5dbYdDx",
        "outputId": "7f0ccc72-bf03-4268-d97d-432105a29b60"
      },
      "execution_count": null,
      "outputs": [
        {
          "output_type": "execute_result",
          "data": {
            "text/plain": [
              "0.45"
            ]
          },
          "metadata": {},
          "execution_count": 192
        }
      ]
    },
    {
      "cell_type": "code",
      "source": [
        "pickle.dump(model, open(\"/content/drive/MyDrive/player_recognition_model.sav\", 'wb'))"
      ],
      "metadata": {
        "id": "_z9rukPx01Sp"
      },
      "execution_count": null,
      "outputs": []
    },
    {
      "cell_type": "markdown",
      "source": [
        "# **Prediction** ***on*** **image**"
      ],
      "metadata": {
        "id": "IKI1TrReutdx"
      }
    },
    {
      "cell_type": "code",
      "source": [
        "pre_img = cv2.imread(\"/content/ms_dhoni_1331.png\")\n",
        "pre_gray_img = cv2.cvtColor( pre_img,cv2.COLOR_RGB2GRAY )\n",
        "scaled_pre_gray_img = cv2.resize(pre_gray_img, (64,64))"
      ],
      "metadata": {
        "id": "F2uQVmexsUPz"
      },
      "execution_count": null,
      "outputs": []
    },
    {
      "cell_type": "code",
      "source": [
        "scaled_pre_gray_img.shape"
      ],
      "metadata": {
        "colab": {
          "base_uri": "https://localhost:8080/"
        },
        "id": "HTRNhyjCwhEq",
        "outputId": "4a4fb34a-db55-48f9-90d9-c80a2689c962"
      },
      "execution_count": null,
      "outputs": [
        {
          "output_type": "execute_result",
          "data": {
            "text/plain": [
              "(64, 64)"
            ]
          },
          "metadata": {},
          "execution_count": 208
        }
      ]
    },
    {
      "cell_type": "code",
      "source": [
        "pre_hog_img = hog_feature(scaled_pre_gray_img)"
      ],
      "metadata": {
        "id": "ZwE74YmYsUWS"
      },
      "execution_count": null,
      "outputs": []
    },
    {
      "cell_type": "code",
      "source": [
        "pre_hog_img"
      ],
      "metadata": {
        "colab": {
          "base_uri": "https://localhost:8080/"
        },
        "id": "yd-1puQUxIKK",
        "outputId": "39c5eb64-3a6a-4d1e-99c5-8e8197572795"
      },
      "execution_count": null,
      "outputs": [
        {
          "output_type": "execute_result",
          "data": {
            "text/plain": [
              "array([[ 2.0510895],\n",
              "       [-1.0184659],\n",
              "       [-0.6462854],\n",
              "       ...,\n",
              "       [-1.1925026],\n",
              "       [-1.06899  ],\n",
              "       [-1.2671126]], dtype=float32)"
            ]
          },
          "metadata": {},
          "execution_count": 210
        }
      ]
    },
    {
      "cell_type": "code",
      "source": [
        "pre_hog_img = np.array(pre_hog_img).reshape(1,-1)"
      ],
      "metadata": {
        "id": "2pxowUsVxdPJ"
      },
      "execution_count": null,
      "outputs": []
    },
    {
      "cell_type": "code",
      "source": [
        "result = pipe.predict(pre_hog_img)"
      ],
      "metadata": {
        "id": "OEHeb9PksUiK"
      },
      "execution_count": null,
      "outputs": []
    },
    {
      "cell_type": "code",
      "source": [
        "player_names_dict[\"{}\".format(result[0])]"
      ],
      "metadata": {
        "colab": {
          "base_uri": "https://localhost:8080/",
          "height": 36
        },
        "id": "hHw3Ykumxlb5",
        "outputId": "9949cb0f-39e8-486c-c32c-35a88d186963"
      },
      "execution_count": null,
      "outputs": [
        {
          "output_type": "execute_result",
          "data": {
            "text/plain": [
              "'ms_dhoni'"
            ],
            "application/vnd.google.colaboratory.intrinsic+json": {
              "type": "string"
            }
          },
          "metadata": {},
          "execution_count": 228
        }
      ]
    },
    {
      "cell_type": "markdown",
      "source": [
        "# **Prediction** **on** **a** **video**"
      ],
      "metadata": {
        "id": "y0_g95oH_Vev"
      }
    },
    {
      "cell_type": "code",
      "source": [
        "vid = VideoFileClip(/content/drive/MyDrive/Video_data/Best of Dhoni Mahi .mp4)\n",
        "model = hubconf._create(/content/drive/MyDrive/best.pt)\n",
        "player_name = os.listdir(images_path)\n",
        "player_names_dict = player_dict(player_name)\n",
        "for duration in range(0,int(vid.duration)):\n",
        "\n",
        "    frame = vid.get_frame(t = duration)\n",
        "    results = np.array(model(frame).pred[0].cpu())\n",
        "    results1= np.array(results[np.isin(results[:,5],np.array([0]))])\n",
        "    if len(results)>0:\n",
        "        for i in results:\n",
        "            crop_face = frame[int(i[1]):int(i[3]),int(i[0]):int(i[2])]\n",
        "            print(crop_face)\n",
        "            img_rgb = cv2.cvtColor(crop_face,cv2.COLOR_BGR2RGB)\n",
        "            gray_img = cv2.cvtColor( img_rgb,cv2.COLOR_RGB2GRAY )\n",
        "            scaled_gray_img = cv2.resize(gray_img, (64,64))\n",
        "            hog_img = hog_feature(scaled_gray_img)\n",
        "            final_img = np.array(hog_img).reshape(1,-1)\n",
        "            Player_name = player_recog(final_img,face_recogniton_model,player_names_dict)\n",
        "            print(Player_name)"
      ],
      "metadata": {
        "id": "l-1RhpkF_URY"
      },
      "execution_count": null,
      "outputs": []
    },
    {
      "cell_type": "code",
      "source": [
        "model_params = {\n",
        "    'svm': {\n",
        "        'model': svm.SVC(gamma='auto',probability=True),\n",
        "        'params' : {\n",
        "            'svc__C': [1,10,100,1000],\n",
        "            'svc__kernel': ['rbf','linear','poly','sigmoid']\n",
        "        }\n",
        "    },\n",
        "    'random_forest': {\n",
        "        'model': RandomForestClassifier(),\n",
        "        'params' : {\n",
        "            'randomforestclassifier__n_estimators': [1,5,10]\n",
        "        }\n",
        "    },\n",
        "    'logistic_regression' : {\n",
        "        'model': LogisticRegression(solver='lbfgs',multi_class='auto'),\n",
        "        'params': {\n",
        "            'logisticregression__C': [1,5,10]\n",
        "        }\n",
        "    }\n",
        "}\n"
      ],
      "metadata": {
        "id": "SbFy_HivsLH0"
      },
      "execution_count": null,
      "outputs": []
    },
    {
      "cell_type": "code",
      "source": [
        "model_params"
      ],
      "metadata": {
        "colab": {
          "base_uri": "https://localhost:8080/"
        },
        "id": "sJxgXzO3SNOH",
        "outputId": "3e87c860-c51c-4ef7-d284-3a11cd8d434b"
      },
      "execution_count": null,
      "outputs": [
        {
          "output_type": "execute_result",
          "data": {
            "text/plain": [
              "{'svm': {'model': SVC(gamma='auto', probability=True),\n",
              "  'params': {'svc__C': [1, 10, 100, 1000],\n",
              "   'svc__kernel': ['rbf', 'linear', 'poly', 'sigmoid']}},\n",
              " 'random_forest': {'model': RandomForestClassifier(),\n",
              "  'params': {'randomforestclassifier__n_estimators': [1, 5, 10]}},\n",
              " 'logistic_regression': {'model': LogisticRegression(),\n",
              "  'params': {'logisticregression__C': [1, 5, 10]}}}"
            ]
          },
          "metadata": {},
          "execution_count": 123
        }
      ]
    },
    {
      "cell_type": "code",
      "source": [
        "scores = []\n",
        "best_estimators = {}\n",
        "for algo, mp in model_params.items():\n",
        "    pipe = make_pipeline(mp['model'])\n",
        "    clf =  GridSearchCV(pipe, mp['params'], cv=5, return_train_score=False)\n",
        "    clf.fit(x_train, y_train)\n",
        "    scores.append({\n",
        "        'model': algo,\n",
        "        'best_score': clf.best_score_,\n",
        "        'best_params': clf.best_params_\n",
        "    })\n",
        "    best_estimators[algo] = clf.best_estimator_\n",
        "\n",
        "df = pd.DataFrame(scores,columns=['model','best_score','best_params'])\n",
        "df"
      ],
      "metadata": {
        "id": "kKnAz98KsNP9"
      },
      "execution_count": null,
      "outputs": []
    }
  ]
}